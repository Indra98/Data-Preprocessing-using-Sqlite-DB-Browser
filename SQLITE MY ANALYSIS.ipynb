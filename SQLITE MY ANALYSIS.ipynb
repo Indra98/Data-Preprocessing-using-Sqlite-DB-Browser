{
 "cells": [
  {
   "cell_type": "code",
   "execution_count": 1,
   "metadata": {},
   "outputs": [],
   "source": [
    "#C:\\Users\\Indranil Das\\Desktop\\sqlite database\n",
    "\n",
    "import sqlite3\n",
    "import pandas as pd\n",
    "\n",
    "conn = sqlite3.connect(r'C:\\Users\\Indranil Das\\Desktop\\sqlite database\\Employ_sal.db')\n",
    "\n",
    "\n",
    "\n",
    "\n",
    "\n"
   ]
  },
  {
   "cell_type": "code",
   "execution_count": 2,
   "metadata": {},
   "outputs": [
    {
     "data": {
      "text/html": [
       "<div>\n",
       "<style scoped>\n",
       "    .dataframe tbody tr th:only-of-type {\n",
       "        vertical-align: middle;\n",
       "    }\n",
       "\n",
       "    .dataframe tbody tr th {\n",
       "        vertical-align: top;\n",
       "    }\n",
       "\n",
       "    .dataframe thead th {\n",
       "        text-align: right;\n",
       "    }\n",
       "</style>\n",
       "<table border=\"1\" class=\"dataframe\">\n",
       "  <thead>\n",
       "    <tr style=\"text-align: right;\">\n",
       "      <th></th>\n",
       "      <th>company</th>\n",
       "      <th>Name</th>\n",
       "      <th>Id</th>\n",
       "      <th>Salary</th>\n",
       "    </tr>\n",
       "  </thead>\n",
       "  <tbody>\n",
       "    <tr>\n",
       "      <th>0</th>\n",
       "      <td>Tcs</td>\n",
       "      <td>pankaj</td>\n",
       "      <td>56777677.0</td>\n",
       "      <td>30000.0</td>\n",
       "    </tr>\n",
       "    <tr>\n",
       "      <th>1</th>\n",
       "      <td>Infosys</td>\n",
       "      <td>indra</td>\n",
       "      <td>6777543.0</td>\n",
       "      <td>25000.0</td>\n",
       "    </tr>\n",
       "    <tr>\n",
       "      <th>2</th>\n",
       "      <td>cts</td>\n",
       "      <td>arun</td>\n",
       "      <td>32221344.0</td>\n",
       "      <td>35000.0</td>\n",
       "    </tr>\n",
       "    <tr>\n",
       "      <th>3</th>\n",
       "      <td>mindtree</td>\n",
       "      <td>soumya</td>\n",
       "      <td>18876778.0</td>\n",
       "      <td>40000.0</td>\n",
       "    </tr>\n",
       "    <tr>\n",
       "      <th>4</th>\n",
       "      <td>virtusa</td>\n",
       "      <td>arunima</td>\n",
       "      <td>4466774.0</td>\n",
       "      <td>50000.0</td>\n",
       "    </tr>\n",
       "    <tr>\n",
       "      <th>5</th>\n",
       "      <td>Tcs</td>\n",
       "      <td>trishali</td>\n",
       "      <td>648326.0</td>\n",
       "      <td>45000.0</td>\n",
       "    </tr>\n",
       "    <tr>\n",
       "      <th>6</th>\n",
       "      <td>cts</td>\n",
       "      <td>kalyan</td>\n",
       "      <td>786423.0</td>\n",
       "      <td>55000.0</td>\n",
       "    </tr>\n",
       "    <tr>\n",
       "      <th>7</th>\n",
       "      <td>wipro</td>\n",
       "      <td>subham</td>\n",
       "      <td>7369863.0</td>\n",
       "      <td>44000.0</td>\n",
       "    </tr>\n",
       "    <tr>\n",
       "      <th>8</th>\n",
       "      <td>infosys</td>\n",
       "      <td>sandeep</td>\n",
       "      <td>1323242.0</td>\n",
       "      <td>52000.0</td>\n",
       "    </tr>\n",
       "    <tr>\n",
       "      <th>9</th>\n",
       "      <td>mindtree</td>\n",
       "      <td>amit</td>\n",
       "      <td>5635535.0</td>\n",
       "      <td>46000.0</td>\n",
       "    </tr>\n",
       "    <tr>\n",
       "      <th>10</th>\n",
       "      <td>None</td>\n",
       "      <td>None</td>\n",
       "      <td>NaN</td>\n",
       "      <td>NaN</td>\n",
       "    </tr>\n",
       "  </tbody>\n",
       "</table>\n",
       "</div>"
      ],
      "text/plain": [
       "     company      Name          Id   Salary\n",
       "0        Tcs    pankaj  56777677.0  30000.0\n",
       "1    Infosys     indra   6777543.0  25000.0\n",
       "2        cts      arun  32221344.0  35000.0\n",
       "3   mindtree    soumya  18876778.0  40000.0\n",
       "4    virtusa   arunima   4466774.0  50000.0\n",
       "5        Tcs  trishali    648326.0  45000.0\n",
       "6        cts   kalyan     786423.0  55000.0\n",
       "7      wipro    subham   7369863.0  44000.0\n",
       "8    infosys   sandeep   1323242.0  52000.0\n",
       "9   mindtree      amit   5635535.0  46000.0\n",
       "10      None      None         NaN      NaN"
      ]
     },
     "execution_count": 2,
     "metadata": {},
     "output_type": "execute_result"
    }
   ],
   "source": [
    "df_emp = pd.read_sql_query(\"Select * from Employe_sal \",conn)\n",
    "\n",
    "df_emp\n"
   ]
  },
  {
   "cell_type": "code",
   "execution_count": 3,
   "metadata": {},
   "outputs": [
    {
     "data": {
      "text/html": [
       "<style  type=\"text/css\" >\n",
       "    #T_141006b6_bfbf_11ea_80bc_541379b0a256row0_col0 {\n",
       "            background-color: purple;\n",
       "        }    #T_141006b6_bfbf_11ea_80bc_541379b0a256row0_col1 {\n",
       "            background-color: purple;\n",
       "        }    #T_141006b6_bfbf_11ea_80bc_541379b0a256row0_col2 {\n",
       "            background-color: purple;\n",
       "        }    #T_141006b6_bfbf_11ea_80bc_541379b0a256row0_col3 {\n",
       "            background-color: purple;\n",
       "        }    #T_141006b6_bfbf_11ea_80bc_541379b0a256row1_col0 {\n",
       "            background-color: purple;\n",
       "        }    #T_141006b6_bfbf_11ea_80bc_541379b0a256row1_col1 {\n",
       "            background-color: purple;\n",
       "        }    #T_141006b6_bfbf_11ea_80bc_541379b0a256row1_col2 {\n",
       "            background-color: purple;\n",
       "        }    #T_141006b6_bfbf_11ea_80bc_541379b0a256row1_col3 {\n",
       "            background-color: purple;\n",
       "        }    #T_141006b6_bfbf_11ea_80bc_541379b0a256row2_col0 {\n",
       "            background-color: orange;\n",
       "        }    #T_141006b6_bfbf_11ea_80bc_541379b0a256row2_col1 {\n",
       "            background-color: orange;\n",
       "        }    #T_141006b6_bfbf_11ea_80bc_541379b0a256row2_col2 {\n",
       "            background-color: orange;\n",
       "        }    #T_141006b6_bfbf_11ea_80bc_541379b0a256row2_col3 {\n",
       "            background-color: orange;\n",
       "        }    #T_141006b6_bfbf_11ea_80bc_541379b0a256row3_col0 {\n",
       "            background-color: orange;\n",
       "        }    #T_141006b6_bfbf_11ea_80bc_541379b0a256row3_col1 {\n",
       "            background-color: orange;\n",
       "        }    #T_141006b6_bfbf_11ea_80bc_541379b0a256row3_col2 {\n",
       "            background-color: orange;\n",
       "        }    #T_141006b6_bfbf_11ea_80bc_541379b0a256row3_col3 {\n",
       "            background-color: orange;\n",
       "        }    #T_141006b6_bfbf_11ea_80bc_541379b0a256row4_col0 {\n",
       "            background-color: orange;\n",
       "        }    #T_141006b6_bfbf_11ea_80bc_541379b0a256row4_col1 {\n",
       "            background-color: orange;\n",
       "        }    #T_141006b6_bfbf_11ea_80bc_541379b0a256row4_col2 {\n",
       "            background-color: orange;\n",
       "        }    #T_141006b6_bfbf_11ea_80bc_541379b0a256row4_col3 {\n",
       "            background-color: orange;\n",
       "        }    #T_141006b6_bfbf_11ea_80bc_541379b0a256row5_col0 {\n",
       "            background-color: orange;\n",
       "        }    #T_141006b6_bfbf_11ea_80bc_541379b0a256row5_col1 {\n",
       "            background-color: orange;\n",
       "        }    #T_141006b6_bfbf_11ea_80bc_541379b0a256row5_col2 {\n",
       "            background-color: orange;\n",
       "        }    #T_141006b6_bfbf_11ea_80bc_541379b0a256row5_col3 {\n",
       "            background-color: orange;\n",
       "        }    #T_141006b6_bfbf_11ea_80bc_541379b0a256row6_col0 {\n",
       "            background-color: orange;\n",
       "        }    #T_141006b6_bfbf_11ea_80bc_541379b0a256row6_col1 {\n",
       "            background-color: orange;\n",
       "        }    #T_141006b6_bfbf_11ea_80bc_541379b0a256row6_col2 {\n",
       "            background-color: orange;\n",
       "        }    #T_141006b6_bfbf_11ea_80bc_541379b0a256row6_col3 {\n",
       "            background-color: orange;\n",
       "        }    #T_141006b6_bfbf_11ea_80bc_541379b0a256row7_col0 {\n",
       "            background-color: orange;\n",
       "        }    #T_141006b6_bfbf_11ea_80bc_541379b0a256row7_col1 {\n",
       "            background-color: orange;\n",
       "        }    #T_141006b6_bfbf_11ea_80bc_541379b0a256row7_col2 {\n",
       "            background-color: orange;\n",
       "        }    #T_141006b6_bfbf_11ea_80bc_541379b0a256row7_col3 {\n",
       "            background-color: orange;\n",
       "        }    #T_141006b6_bfbf_11ea_80bc_541379b0a256row8_col0 {\n",
       "            background-color: orange;\n",
       "        }    #T_141006b6_bfbf_11ea_80bc_541379b0a256row8_col1 {\n",
       "            background-color: orange;\n",
       "        }    #T_141006b6_bfbf_11ea_80bc_541379b0a256row8_col2 {\n",
       "            background-color: orange;\n",
       "        }    #T_141006b6_bfbf_11ea_80bc_541379b0a256row8_col3 {\n",
       "            background-color: orange;\n",
       "        }    #T_141006b6_bfbf_11ea_80bc_541379b0a256row9_col0 {\n",
       "            background-color: orange;\n",
       "        }    #T_141006b6_bfbf_11ea_80bc_541379b0a256row9_col1 {\n",
       "            background-color: orange;\n",
       "        }    #T_141006b6_bfbf_11ea_80bc_541379b0a256row9_col2 {\n",
       "            background-color: orange;\n",
       "        }    #T_141006b6_bfbf_11ea_80bc_541379b0a256row9_col3 {\n",
       "            background-color: orange;\n",
       "        }    #T_141006b6_bfbf_11ea_80bc_541379b0a256row10_col0 {\n",
       "            background-color: purple;\n",
       "        }    #T_141006b6_bfbf_11ea_80bc_541379b0a256row10_col1 {\n",
       "            background-color: purple;\n",
       "        }    #T_141006b6_bfbf_11ea_80bc_541379b0a256row10_col2 {\n",
       "            background-color: purple;\n",
       "        }    #T_141006b6_bfbf_11ea_80bc_541379b0a256row10_col3 {\n",
       "            background-color: purple;\n",
       "        }</style><table id=\"T_141006b6_bfbf_11ea_80bc_541379b0a256\" ><thead>    <tr>        <th class=\"blank level0\" ></th>        <th class=\"col_heading level0 col0\" >company</th>        <th class=\"col_heading level0 col1\" >Name</th>        <th class=\"col_heading level0 col2\" >Id</th>        <th class=\"col_heading level0 col3\" >Salary</th>    </tr></thead><tbody>\n",
       "                <tr>\n",
       "                        <th id=\"T_141006b6_bfbf_11ea_80bc_541379b0a256level0_row0\" class=\"row_heading level0 row0\" >0</th>\n",
       "                        <td id=\"T_141006b6_bfbf_11ea_80bc_541379b0a256row0_col0\" class=\"data row0 col0\" >Tcs</td>\n",
       "                        <td id=\"T_141006b6_bfbf_11ea_80bc_541379b0a256row0_col1\" class=\"data row0 col1\" >pankaj</td>\n",
       "                        <td id=\"T_141006b6_bfbf_11ea_80bc_541379b0a256row0_col2\" class=\"data row0 col2\" >56777677.000000</td>\n",
       "                        <td id=\"T_141006b6_bfbf_11ea_80bc_541379b0a256row0_col3\" class=\"data row0 col3\" >30000.000000</td>\n",
       "            </tr>\n",
       "            <tr>\n",
       "                        <th id=\"T_141006b6_bfbf_11ea_80bc_541379b0a256level0_row1\" class=\"row_heading level0 row1\" >1</th>\n",
       "                        <td id=\"T_141006b6_bfbf_11ea_80bc_541379b0a256row1_col0\" class=\"data row1 col0\" >Infosys</td>\n",
       "                        <td id=\"T_141006b6_bfbf_11ea_80bc_541379b0a256row1_col1\" class=\"data row1 col1\" >indra</td>\n",
       "                        <td id=\"T_141006b6_bfbf_11ea_80bc_541379b0a256row1_col2\" class=\"data row1 col2\" >6777543.000000</td>\n",
       "                        <td id=\"T_141006b6_bfbf_11ea_80bc_541379b0a256row1_col3\" class=\"data row1 col3\" >25000.000000</td>\n",
       "            </tr>\n",
       "            <tr>\n",
       "                        <th id=\"T_141006b6_bfbf_11ea_80bc_541379b0a256level0_row2\" class=\"row_heading level0 row2\" >2</th>\n",
       "                        <td id=\"T_141006b6_bfbf_11ea_80bc_541379b0a256row2_col0\" class=\"data row2 col0\" >cts</td>\n",
       "                        <td id=\"T_141006b6_bfbf_11ea_80bc_541379b0a256row2_col1\" class=\"data row2 col1\" >arun</td>\n",
       "                        <td id=\"T_141006b6_bfbf_11ea_80bc_541379b0a256row2_col2\" class=\"data row2 col2\" >32221344.000000</td>\n",
       "                        <td id=\"T_141006b6_bfbf_11ea_80bc_541379b0a256row2_col3\" class=\"data row2 col3\" >35000.000000</td>\n",
       "            </tr>\n",
       "            <tr>\n",
       "                        <th id=\"T_141006b6_bfbf_11ea_80bc_541379b0a256level0_row3\" class=\"row_heading level0 row3\" >3</th>\n",
       "                        <td id=\"T_141006b6_bfbf_11ea_80bc_541379b0a256row3_col0\" class=\"data row3 col0\" >mindtree</td>\n",
       "                        <td id=\"T_141006b6_bfbf_11ea_80bc_541379b0a256row3_col1\" class=\"data row3 col1\" >soumya</td>\n",
       "                        <td id=\"T_141006b6_bfbf_11ea_80bc_541379b0a256row3_col2\" class=\"data row3 col2\" >18876778.000000</td>\n",
       "                        <td id=\"T_141006b6_bfbf_11ea_80bc_541379b0a256row3_col3\" class=\"data row3 col3\" >40000.000000</td>\n",
       "            </tr>\n",
       "            <tr>\n",
       "                        <th id=\"T_141006b6_bfbf_11ea_80bc_541379b0a256level0_row4\" class=\"row_heading level0 row4\" >4</th>\n",
       "                        <td id=\"T_141006b6_bfbf_11ea_80bc_541379b0a256row4_col0\" class=\"data row4 col0\" >virtusa</td>\n",
       "                        <td id=\"T_141006b6_bfbf_11ea_80bc_541379b0a256row4_col1\" class=\"data row4 col1\" >arunima</td>\n",
       "                        <td id=\"T_141006b6_bfbf_11ea_80bc_541379b0a256row4_col2\" class=\"data row4 col2\" >4466774.000000</td>\n",
       "                        <td id=\"T_141006b6_bfbf_11ea_80bc_541379b0a256row4_col3\" class=\"data row4 col3\" >50000.000000</td>\n",
       "            </tr>\n",
       "            <tr>\n",
       "                        <th id=\"T_141006b6_bfbf_11ea_80bc_541379b0a256level0_row5\" class=\"row_heading level0 row5\" >5</th>\n",
       "                        <td id=\"T_141006b6_bfbf_11ea_80bc_541379b0a256row5_col0\" class=\"data row5 col0\" >Tcs</td>\n",
       "                        <td id=\"T_141006b6_bfbf_11ea_80bc_541379b0a256row5_col1\" class=\"data row5 col1\" >trishali</td>\n",
       "                        <td id=\"T_141006b6_bfbf_11ea_80bc_541379b0a256row5_col2\" class=\"data row5 col2\" >648326.000000</td>\n",
       "                        <td id=\"T_141006b6_bfbf_11ea_80bc_541379b0a256row5_col3\" class=\"data row5 col3\" >45000.000000</td>\n",
       "            </tr>\n",
       "            <tr>\n",
       "                        <th id=\"T_141006b6_bfbf_11ea_80bc_541379b0a256level0_row6\" class=\"row_heading level0 row6\" >6</th>\n",
       "                        <td id=\"T_141006b6_bfbf_11ea_80bc_541379b0a256row6_col0\" class=\"data row6 col0\" >cts</td>\n",
       "                        <td id=\"T_141006b6_bfbf_11ea_80bc_541379b0a256row6_col1\" class=\"data row6 col1\" >kalyan </td>\n",
       "                        <td id=\"T_141006b6_bfbf_11ea_80bc_541379b0a256row6_col2\" class=\"data row6 col2\" >786423.000000</td>\n",
       "                        <td id=\"T_141006b6_bfbf_11ea_80bc_541379b0a256row6_col3\" class=\"data row6 col3\" >55000.000000</td>\n",
       "            </tr>\n",
       "            <tr>\n",
       "                        <th id=\"T_141006b6_bfbf_11ea_80bc_541379b0a256level0_row7\" class=\"row_heading level0 row7\" >7</th>\n",
       "                        <td id=\"T_141006b6_bfbf_11ea_80bc_541379b0a256row7_col0\" class=\"data row7 col0\" >wipro</td>\n",
       "                        <td id=\"T_141006b6_bfbf_11ea_80bc_541379b0a256row7_col1\" class=\"data row7 col1\" >subham</td>\n",
       "                        <td id=\"T_141006b6_bfbf_11ea_80bc_541379b0a256row7_col2\" class=\"data row7 col2\" >7369863.000000</td>\n",
       "                        <td id=\"T_141006b6_bfbf_11ea_80bc_541379b0a256row7_col3\" class=\"data row7 col3\" >44000.000000</td>\n",
       "            </tr>\n",
       "            <tr>\n",
       "                        <th id=\"T_141006b6_bfbf_11ea_80bc_541379b0a256level0_row8\" class=\"row_heading level0 row8\" >8</th>\n",
       "                        <td id=\"T_141006b6_bfbf_11ea_80bc_541379b0a256row8_col0\" class=\"data row8 col0\" >infosys</td>\n",
       "                        <td id=\"T_141006b6_bfbf_11ea_80bc_541379b0a256row8_col1\" class=\"data row8 col1\" >sandeep</td>\n",
       "                        <td id=\"T_141006b6_bfbf_11ea_80bc_541379b0a256row8_col2\" class=\"data row8 col2\" >1323242.000000</td>\n",
       "                        <td id=\"T_141006b6_bfbf_11ea_80bc_541379b0a256row8_col3\" class=\"data row8 col3\" >52000.000000</td>\n",
       "            </tr>\n",
       "            <tr>\n",
       "                        <th id=\"T_141006b6_bfbf_11ea_80bc_541379b0a256level0_row9\" class=\"row_heading level0 row9\" >9</th>\n",
       "                        <td id=\"T_141006b6_bfbf_11ea_80bc_541379b0a256row9_col0\" class=\"data row9 col0\" >mindtree</td>\n",
       "                        <td id=\"T_141006b6_bfbf_11ea_80bc_541379b0a256row9_col1\" class=\"data row9 col1\" >amit</td>\n",
       "                        <td id=\"T_141006b6_bfbf_11ea_80bc_541379b0a256row9_col2\" class=\"data row9 col2\" >5635535.000000</td>\n",
       "                        <td id=\"T_141006b6_bfbf_11ea_80bc_541379b0a256row9_col3\" class=\"data row9 col3\" >46000.000000</td>\n",
       "            </tr>\n",
       "            <tr>\n",
       "                        <th id=\"T_141006b6_bfbf_11ea_80bc_541379b0a256level0_row10\" class=\"row_heading level0 row10\" >10</th>\n",
       "                        <td id=\"T_141006b6_bfbf_11ea_80bc_541379b0a256row10_col0\" class=\"data row10 col0\" >None</td>\n",
       "                        <td id=\"T_141006b6_bfbf_11ea_80bc_541379b0a256row10_col1\" class=\"data row10 col1\" >None</td>\n",
       "                        <td id=\"T_141006b6_bfbf_11ea_80bc_541379b0a256row10_col2\" class=\"data row10 col2\" >nan</td>\n",
       "                        <td id=\"T_141006b6_bfbf_11ea_80bc_541379b0a256row10_col3\" class=\"data row10 col3\" >nan</td>\n",
       "            </tr>\n",
       "    </tbody></table>"
      ],
      "text/plain": [
       "<pandas.io.formats.style.Styler at 0x1bae1156408>"
      ]
     },
     "execution_count": 3,
     "metadata": {},
     "output_type": "execute_result"
    }
   ],
   "source": [
    "def comp(s):\n",
    "    \n",
    "    if s.Salary > 30000:\n",
    "        \n",
    "        return ['background-color:orange']*4\n",
    "    \n",
    "    else:\n",
    "        \n",
    "        return ['background-color:purple']*4\n",
    "        \n",
    "df_emp.style.apply(comp,axis=1)        \n",
    "    \n",
    "    \n",
    "    "
   ]
  },
  {
   "cell_type": "code",
   "execution_count": 25,
   "metadata": {},
   "outputs": [
    {
     "data": {
      "text/plain": [
       "Id        13488350.5\n",
       "Salary       42200.0\n",
       "dtype: float64"
      ]
     },
     "execution_count": 25,
     "metadata": {},
     "output_type": "execute_result"
    }
   ],
   "source": [
    "df_emp.mean()"
   ]
  },
  {
   "cell_type": "code",
   "execution_count": 26,
   "metadata": {},
   "outputs": [
    {
     "data": {
      "text/html": [
       "<div>\n",
       "<style scoped>\n",
       "    .dataframe tbody tr th:only-of-type {\n",
       "        vertical-align: middle;\n",
       "    }\n",
       "\n",
       "    .dataframe tbody tr th {\n",
       "        vertical-align: top;\n",
       "    }\n",
       "\n",
       "    .dataframe thead th {\n",
       "        text-align: right;\n",
       "    }\n",
       "</style>\n",
       "<table border=\"1\" class=\"dataframe\">\n",
       "  <thead>\n",
       "    <tr style=\"text-align: right;\">\n",
       "      <th></th>\n",
       "      <th>Id</th>\n",
       "      <th>Salary</th>\n",
       "    </tr>\n",
       "  </thead>\n",
       "  <tbody>\n",
       "    <tr>\n",
       "      <th>count</th>\n",
       "      <td>1.000000e+01</td>\n",
       "      <td>10.000000</td>\n",
       "    </tr>\n",
       "    <tr>\n",
       "      <th>mean</th>\n",
       "      <td>1.348835e+07</td>\n",
       "      <td>42200.000000</td>\n",
       "    </tr>\n",
       "    <tr>\n",
       "      <th>std</th>\n",
       "      <td>1.811582e+07</td>\n",
       "      <td>9704.523573</td>\n",
       "    </tr>\n",
       "    <tr>\n",
       "      <th>min</th>\n",
       "      <td>6.483260e+05</td>\n",
       "      <td>25000.000000</td>\n",
       "    </tr>\n",
       "    <tr>\n",
       "      <th>25%</th>\n",
       "      <td>2.109125e+06</td>\n",
       "      <td>36250.000000</td>\n",
       "    </tr>\n",
       "    <tr>\n",
       "      <th>50%</th>\n",
       "      <td>6.206539e+06</td>\n",
       "      <td>44500.000000</td>\n",
       "    </tr>\n",
       "    <tr>\n",
       "      <th>75%</th>\n",
       "      <td>1.600005e+07</td>\n",
       "      <td>49000.000000</td>\n",
       "    </tr>\n",
       "    <tr>\n",
       "      <th>max</th>\n",
       "      <td>5.677768e+07</td>\n",
       "      <td>55000.000000</td>\n",
       "    </tr>\n",
       "  </tbody>\n",
       "</table>\n",
       "</div>"
      ],
      "text/plain": [
       "                 Id        Salary\n",
       "count  1.000000e+01     10.000000\n",
       "mean   1.348835e+07  42200.000000\n",
       "std    1.811582e+07   9704.523573\n",
       "min    6.483260e+05  25000.000000\n",
       "25%    2.109125e+06  36250.000000\n",
       "50%    6.206539e+06  44500.000000\n",
       "75%    1.600005e+07  49000.000000\n",
       "max    5.677768e+07  55000.000000"
      ]
     },
     "execution_count": 26,
     "metadata": {},
     "output_type": "execute_result"
    }
   ],
   "source": [
    "df_emp.describe()"
   ]
  },
  {
   "cell_type": "code",
   "execution_count": 30,
   "metadata": {},
   "outputs": [
    {
     "data": {
      "text/html": [
       "<style  type=\"text/css\" >\n",
       "    #T_278c674c_bf73_11ea_9ac6_541379b0a256row0_col0 {\n",
       "            background-color: purple;\n",
       "        }    #T_278c674c_bf73_11ea_9ac6_541379b0a256row0_col1 {\n",
       "            background-color: purple;\n",
       "        }    #T_278c674c_bf73_11ea_9ac6_541379b0a256row0_col2 {\n",
       "            background-color: purple;\n",
       "        }    #T_278c674c_bf73_11ea_9ac6_541379b0a256row0_col3 {\n",
       "            background-color: purple;\n",
       "        }    #T_278c674c_bf73_11ea_9ac6_541379b0a256row1_col0 {\n",
       "            background-color: purple;\n",
       "        }    #T_278c674c_bf73_11ea_9ac6_541379b0a256row1_col1 {\n",
       "            background-color: purple;\n",
       "        }    #T_278c674c_bf73_11ea_9ac6_541379b0a256row1_col2 {\n",
       "            background-color: purple;\n",
       "        }    #T_278c674c_bf73_11ea_9ac6_541379b0a256row1_col3 {\n",
       "            background-color: purple;\n",
       "        }    #T_278c674c_bf73_11ea_9ac6_541379b0a256row2_col0 {\n",
       "            background-color: purple;\n",
       "        }    #T_278c674c_bf73_11ea_9ac6_541379b0a256row2_col1 {\n",
       "            background-color: purple;\n",
       "        }    #T_278c674c_bf73_11ea_9ac6_541379b0a256row2_col2 {\n",
       "            background-color: purple;\n",
       "        }    #T_278c674c_bf73_11ea_9ac6_541379b0a256row2_col3 {\n",
       "            background-color: purple;\n",
       "        }    #T_278c674c_bf73_11ea_9ac6_541379b0a256row3_col0 {\n",
       "            background-color: orange;\n",
       "        }    #T_278c674c_bf73_11ea_9ac6_541379b0a256row3_col1 {\n",
       "            background-color: orange;\n",
       "        }    #T_278c674c_bf73_11ea_9ac6_541379b0a256row3_col2 {\n",
       "            background-color: orange;\n",
       "        }    #T_278c674c_bf73_11ea_9ac6_541379b0a256row3_col3 {\n",
       "            background-color: orange;\n",
       "        }    #T_278c674c_bf73_11ea_9ac6_541379b0a256row4_col0 {\n",
       "            background-color: purple;\n",
       "        }    #T_278c674c_bf73_11ea_9ac6_541379b0a256row4_col1 {\n",
       "            background-color: purple;\n",
       "        }    #T_278c674c_bf73_11ea_9ac6_541379b0a256row4_col2 {\n",
       "            background-color: purple;\n",
       "        }    #T_278c674c_bf73_11ea_9ac6_541379b0a256row4_col3 {\n",
       "            background-color: purple;\n",
       "        }    #T_278c674c_bf73_11ea_9ac6_541379b0a256row5_col0 {\n",
       "            background-color: purple;\n",
       "        }    #T_278c674c_bf73_11ea_9ac6_541379b0a256row5_col1 {\n",
       "            background-color: purple;\n",
       "        }    #T_278c674c_bf73_11ea_9ac6_541379b0a256row5_col2 {\n",
       "            background-color: purple;\n",
       "        }    #T_278c674c_bf73_11ea_9ac6_541379b0a256row5_col3 {\n",
       "            background-color: purple;\n",
       "        }    #T_278c674c_bf73_11ea_9ac6_541379b0a256row6_col0 {\n",
       "            background-color: purple;\n",
       "        }    #T_278c674c_bf73_11ea_9ac6_541379b0a256row6_col1 {\n",
       "            background-color: purple;\n",
       "        }    #T_278c674c_bf73_11ea_9ac6_541379b0a256row6_col2 {\n",
       "            background-color: purple;\n",
       "        }    #T_278c674c_bf73_11ea_9ac6_541379b0a256row6_col3 {\n",
       "            background-color: purple;\n",
       "        }    #T_278c674c_bf73_11ea_9ac6_541379b0a256row7_col0 {\n",
       "            background-color: purple;\n",
       "        }    #T_278c674c_bf73_11ea_9ac6_541379b0a256row7_col1 {\n",
       "            background-color: purple;\n",
       "        }    #T_278c674c_bf73_11ea_9ac6_541379b0a256row7_col2 {\n",
       "            background-color: purple;\n",
       "        }    #T_278c674c_bf73_11ea_9ac6_541379b0a256row7_col3 {\n",
       "            background-color: purple;\n",
       "        }    #T_278c674c_bf73_11ea_9ac6_541379b0a256row8_col0 {\n",
       "            background-color: purple;\n",
       "        }    #T_278c674c_bf73_11ea_9ac6_541379b0a256row8_col1 {\n",
       "            background-color: purple;\n",
       "        }    #T_278c674c_bf73_11ea_9ac6_541379b0a256row8_col2 {\n",
       "            background-color: purple;\n",
       "        }    #T_278c674c_bf73_11ea_9ac6_541379b0a256row8_col3 {\n",
       "            background-color: purple;\n",
       "        }    #T_278c674c_bf73_11ea_9ac6_541379b0a256row9_col0 {\n",
       "            background-color: purple;\n",
       "        }    #T_278c674c_bf73_11ea_9ac6_541379b0a256row9_col1 {\n",
       "            background-color: purple;\n",
       "        }    #T_278c674c_bf73_11ea_9ac6_541379b0a256row9_col2 {\n",
       "            background-color: purple;\n",
       "        }    #T_278c674c_bf73_11ea_9ac6_541379b0a256row9_col3 {\n",
       "            background-color: purple;\n",
       "        }    #T_278c674c_bf73_11ea_9ac6_541379b0a256row10_col0 {\n",
       "            background-color: purple;\n",
       "        }    #T_278c674c_bf73_11ea_9ac6_541379b0a256row10_col1 {\n",
       "            background-color: purple;\n",
       "        }    #T_278c674c_bf73_11ea_9ac6_541379b0a256row10_col2 {\n",
       "            background-color: purple;\n",
       "        }    #T_278c674c_bf73_11ea_9ac6_541379b0a256row10_col3 {\n",
       "            background-color: purple;\n",
       "        }</style><table id=\"T_278c674c_bf73_11ea_9ac6_541379b0a256\" ><thead>    <tr>        <th class=\"blank level0\" ></th>        <th class=\"col_heading level0 col0\" >company</th>        <th class=\"col_heading level0 col1\" >Name</th>        <th class=\"col_heading level0 col2\" >Id</th>        <th class=\"col_heading level0 col3\" >Salary</th>    </tr></thead><tbody>\n",
       "                <tr>\n",
       "                        <th id=\"T_278c674c_bf73_11ea_9ac6_541379b0a256level0_row0\" class=\"row_heading level0 row0\" >0</th>\n",
       "                        <td id=\"T_278c674c_bf73_11ea_9ac6_541379b0a256row0_col0\" class=\"data row0 col0\" >Tcs</td>\n",
       "                        <td id=\"T_278c674c_bf73_11ea_9ac6_541379b0a256row0_col1\" class=\"data row0 col1\" >pankaj</td>\n",
       "                        <td id=\"T_278c674c_bf73_11ea_9ac6_541379b0a256row0_col2\" class=\"data row0 col2\" >56777677.000000</td>\n",
       "                        <td id=\"T_278c674c_bf73_11ea_9ac6_541379b0a256row0_col3\" class=\"data row0 col3\" >30000.000000</td>\n",
       "            </tr>\n",
       "            <tr>\n",
       "                        <th id=\"T_278c674c_bf73_11ea_9ac6_541379b0a256level0_row1\" class=\"row_heading level0 row1\" >1</th>\n",
       "                        <td id=\"T_278c674c_bf73_11ea_9ac6_541379b0a256row1_col0\" class=\"data row1 col0\" >Infosys</td>\n",
       "                        <td id=\"T_278c674c_bf73_11ea_9ac6_541379b0a256row1_col1\" class=\"data row1 col1\" >indra</td>\n",
       "                        <td id=\"T_278c674c_bf73_11ea_9ac6_541379b0a256row1_col2\" class=\"data row1 col2\" >6777543.000000</td>\n",
       "                        <td id=\"T_278c674c_bf73_11ea_9ac6_541379b0a256row1_col3\" class=\"data row1 col3\" >25000.000000</td>\n",
       "            </tr>\n",
       "            <tr>\n",
       "                        <th id=\"T_278c674c_bf73_11ea_9ac6_541379b0a256level0_row2\" class=\"row_heading level0 row2\" >2</th>\n",
       "                        <td id=\"T_278c674c_bf73_11ea_9ac6_541379b0a256row2_col0\" class=\"data row2 col0\" >cts</td>\n",
       "                        <td id=\"T_278c674c_bf73_11ea_9ac6_541379b0a256row2_col1\" class=\"data row2 col1\" >arun</td>\n",
       "                        <td id=\"T_278c674c_bf73_11ea_9ac6_541379b0a256row2_col2\" class=\"data row2 col2\" >32221344.000000</td>\n",
       "                        <td id=\"T_278c674c_bf73_11ea_9ac6_541379b0a256row2_col3\" class=\"data row2 col3\" >35000.000000</td>\n",
       "            </tr>\n",
       "            <tr>\n",
       "                        <th id=\"T_278c674c_bf73_11ea_9ac6_541379b0a256level0_row3\" class=\"row_heading level0 row3\" >3</th>\n",
       "                        <td id=\"T_278c674c_bf73_11ea_9ac6_541379b0a256row3_col0\" class=\"data row3 col0\" >mindtree</td>\n",
       "                        <td id=\"T_278c674c_bf73_11ea_9ac6_541379b0a256row3_col1\" class=\"data row3 col1\" >soumya</td>\n",
       "                        <td id=\"T_278c674c_bf73_11ea_9ac6_541379b0a256row3_col2\" class=\"data row3 col2\" >18876778.000000</td>\n",
       "                        <td id=\"T_278c674c_bf73_11ea_9ac6_541379b0a256row3_col3\" class=\"data row3 col3\" >40000.000000</td>\n",
       "            </tr>\n",
       "            <tr>\n",
       "                        <th id=\"T_278c674c_bf73_11ea_9ac6_541379b0a256level0_row4\" class=\"row_heading level0 row4\" >4</th>\n",
       "                        <td id=\"T_278c674c_bf73_11ea_9ac6_541379b0a256row4_col0\" class=\"data row4 col0\" >virtusa</td>\n",
       "                        <td id=\"T_278c674c_bf73_11ea_9ac6_541379b0a256row4_col1\" class=\"data row4 col1\" >arunima</td>\n",
       "                        <td id=\"T_278c674c_bf73_11ea_9ac6_541379b0a256row4_col2\" class=\"data row4 col2\" >4466774.000000</td>\n",
       "                        <td id=\"T_278c674c_bf73_11ea_9ac6_541379b0a256row4_col3\" class=\"data row4 col3\" >50000.000000</td>\n",
       "            </tr>\n",
       "            <tr>\n",
       "                        <th id=\"T_278c674c_bf73_11ea_9ac6_541379b0a256level0_row5\" class=\"row_heading level0 row5\" >5</th>\n",
       "                        <td id=\"T_278c674c_bf73_11ea_9ac6_541379b0a256row5_col0\" class=\"data row5 col0\" >Tcs</td>\n",
       "                        <td id=\"T_278c674c_bf73_11ea_9ac6_541379b0a256row5_col1\" class=\"data row5 col1\" >trishali</td>\n",
       "                        <td id=\"T_278c674c_bf73_11ea_9ac6_541379b0a256row5_col2\" class=\"data row5 col2\" >648326.000000</td>\n",
       "                        <td id=\"T_278c674c_bf73_11ea_9ac6_541379b0a256row5_col3\" class=\"data row5 col3\" >45000.000000</td>\n",
       "            </tr>\n",
       "            <tr>\n",
       "                        <th id=\"T_278c674c_bf73_11ea_9ac6_541379b0a256level0_row6\" class=\"row_heading level0 row6\" >6</th>\n",
       "                        <td id=\"T_278c674c_bf73_11ea_9ac6_541379b0a256row6_col0\" class=\"data row6 col0\" >cts</td>\n",
       "                        <td id=\"T_278c674c_bf73_11ea_9ac6_541379b0a256row6_col1\" class=\"data row6 col1\" >kalyan </td>\n",
       "                        <td id=\"T_278c674c_bf73_11ea_9ac6_541379b0a256row6_col2\" class=\"data row6 col2\" >786423.000000</td>\n",
       "                        <td id=\"T_278c674c_bf73_11ea_9ac6_541379b0a256row6_col3\" class=\"data row6 col3\" >55000.000000</td>\n",
       "            </tr>\n",
       "            <tr>\n",
       "                        <th id=\"T_278c674c_bf73_11ea_9ac6_541379b0a256level0_row7\" class=\"row_heading level0 row7\" >7</th>\n",
       "                        <td id=\"T_278c674c_bf73_11ea_9ac6_541379b0a256row7_col0\" class=\"data row7 col0\" >wipro</td>\n",
       "                        <td id=\"T_278c674c_bf73_11ea_9ac6_541379b0a256row7_col1\" class=\"data row7 col1\" >subham</td>\n",
       "                        <td id=\"T_278c674c_bf73_11ea_9ac6_541379b0a256row7_col2\" class=\"data row7 col2\" >7369863.000000</td>\n",
       "                        <td id=\"T_278c674c_bf73_11ea_9ac6_541379b0a256row7_col3\" class=\"data row7 col3\" >44000.000000</td>\n",
       "            </tr>\n",
       "            <tr>\n",
       "                        <th id=\"T_278c674c_bf73_11ea_9ac6_541379b0a256level0_row8\" class=\"row_heading level0 row8\" >8</th>\n",
       "                        <td id=\"T_278c674c_bf73_11ea_9ac6_541379b0a256row8_col0\" class=\"data row8 col0\" >infosys</td>\n",
       "                        <td id=\"T_278c674c_bf73_11ea_9ac6_541379b0a256row8_col1\" class=\"data row8 col1\" >sandeep</td>\n",
       "                        <td id=\"T_278c674c_bf73_11ea_9ac6_541379b0a256row8_col2\" class=\"data row8 col2\" >1323242.000000</td>\n",
       "                        <td id=\"T_278c674c_bf73_11ea_9ac6_541379b0a256row8_col3\" class=\"data row8 col3\" >52000.000000</td>\n",
       "            </tr>\n",
       "            <tr>\n",
       "                        <th id=\"T_278c674c_bf73_11ea_9ac6_541379b0a256level0_row9\" class=\"row_heading level0 row9\" >9</th>\n",
       "                        <td id=\"T_278c674c_bf73_11ea_9ac6_541379b0a256row9_col0\" class=\"data row9 col0\" >mindtree</td>\n",
       "                        <td id=\"T_278c674c_bf73_11ea_9ac6_541379b0a256row9_col1\" class=\"data row9 col1\" >amit</td>\n",
       "                        <td id=\"T_278c674c_bf73_11ea_9ac6_541379b0a256row9_col2\" class=\"data row9 col2\" >5635535.000000</td>\n",
       "                        <td id=\"T_278c674c_bf73_11ea_9ac6_541379b0a256row9_col3\" class=\"data row9 col3\" >46000.000000</td>\n",
       "            </tr>\n",
       "            <tr>\n",
       "                        <th id=\"T_278c674c_bf73_11ea_9ac6_541379b0a256level0_row10\" class=\"row_heading level0 row10\" >10</th>\n",
       "                        <td id=\"T_278c674c_bf73_11ea_9ac6_541379b0a256row10_col0\" class=\"data row10 col0\" >None</td>\n",
       "                        <td id=\"T_278c674c_bf73_11ea_9ac6_541379b0a256row10_col1\" class=\"data row10 col1\" >None</td>\n",
       "                        <td id=\"T_278c674c_bf73_11ea_9ac6_541379b0a256row10_col2\" class=\"data row10 col2\" >nan</td>\n",
       "                        <td id=\"T_278c674c_bf73_11ea_9ac6_541379b0a256row10_col3\" class=\"data row10 col3\" >nan</td>\n",
       "            </tr>\n",
       "    </tbody></table>"
      ],
      "text/plain": [
       "<pandas.io.formats.style.Styler at 0x23fbbe5a748>"
      ]
     },
     "execution_count": 30,
     "metadata": {},
     "output_type": "execute_result"
    }
   ],
   "source": [
    "def comp(s):\n",
    "    \n",
    "    if s.Id == 18876778:\n",
    "        \n",
    "        return ['background-color:orange']*4\n",
    "    \n",
    "    else:\n",
    "        \n",
    "        return ['background-color:purple']*4\n",
    "        \n",
    "df_emp.style.apply(comp,axis=1)        \n",
    "    "
   ]
  },
  {
   "cell_type": "code",
   "execution_count": 35,
   "metadata": {},
   "outputs": [
    {
     "data": {
      "text/plain": [
       "0     56777677.0\n",
       "1      6777543.0\n",
       "2     32221344.0\n",
       "3     18876778.0\n",
       "4      4466774.0\n",
       "5       648326.0\n",
       "6       786423.0\n",
       "7      7369863.0\n",
       "8      1323242.0\n",
       "9      5635535.0\n",
       "10           NaN\n",
       "dtype: float64"
      ]
     },
     "execution_count": 35,
     "metadata": {},
     "output_type": "execute_result"
    }
   ],
   "source": [
    "df_emp.max(axis=1)\n",
    "    "
   ]
  },
  {
   "cell_type": "code",
   "execution_count": 38,
   "metadata": {},
   "outputs": [
    {
     "data": {
      "text/plain": [
       "<seaborn.axisgrid.JointGrid at 0x1bae4c8ae48>"
      ]
     },
     "execution_count": 38,
     "metadata": {},
     "output_type": "execute_result"
    },
    {
     "data": {
      "image/png": "[encoded data removed]",
      "text/plain": [
       "<Figure size 432x432 with 3 Axes>"
      ]
     },
     "metadata": {
      "needs_background": "light"
     },
     "output_type": "display_data"
    }
   ],
   "source": [
    "import pandas as pd\n",
    "import seaborn as sns\n",
    "\n",
    "sns.jointplot(x='Id', y='Salary', data=df_emp, kind='reg')"
   ]
  },
  {
   "cell_type": "code",
   "execution_count": 52,
   "metadata": {},
   "outputs": [
    {
     "data": {
      "text/plain": [
       "<seaborn.axisgrid.JointGrid at 0x1bae6b0eb88>"
      ]
     },
     "execution_count": 52,
     "metadata": {},
     "output_type": "execute_result"
    },
    {
     "data": {
      "image/png": "[encoded data removed]",
      "text/plain": [
       "<Figure size 432x432 with 3 Axes>"
      ]
     },
     "metadata": {
      "needs_background": "light"
     },
     "output_type": "display_data"
    },
    {
     "data": {
      "image/png": "[encoded data removed]",
      "text/plain": [
       "<Figure size 432x432 with 3 Axes>"
      ]
     },
     "metadata": {
      "needs_background": "light"
     },
     "output_type": "display_data"
    },
    {
     "data": {
      "image/png": "[encoded data removed]",
      "text/plain": [
       "<Figure size 432x432 with 3 Axes>"
      ]
     },
     "metadata": {
      "needs_background": "light"
     },
     "output_type": "display_data"
    },
    {
     "data": {
      "image/png": "[encoded data removed]",
      "text/plain": [
       "<Figure size 432x432 with 3 Axes>"
      ]
     },
     "metadata": {
      "needs_background": "light"
     },
     "output_type": "display_data"
    },
    {
     "data": {
      "image/png": "[encoded data removed]",
      "text/plain": [
       "<Figure size 432x432 with 3 Axes>"
      ]
     },
     "metadata": {
      "needs_background": "light"
     },
     "output_type": "display_data"
    }
   ],
   "source": [
    "sns.jointplot(x='Id', y='Salary', data=df_emp, kind='scatter', color='m')\n",
    "sns.jointplot(x='Id', y='Salary', data=df_emp, kind='hex', color='m')\n",
    "sns.jointplot(x='Id', y='Salary', data=df_emp, kind='reg', color='m')\n",
    "sns.jointplot(x='Id', y='Salary', data=df_emp, kind='resid', color='m')#reg', 'resid', 'kde'\n",
    "sns.jointplot(x='Id', y='Salary', data=df_emp, kind='kde', color='m')\n"
   ]
  },
  {
   "cell_type": "code",
   "execution_count": 48,
   "metadata": {},
   "outputs": [
    {
     "data": {
      "text/plain": [
       "<seaborn.axisgrid.FacetGrid at 0x1bae5258108>"
      ]
     },
     "execution_count": 48,
     "metadata": {},
     "output_type": "execute_result"
    },
    {
     "data": {
      "image/png": "[encoded data removed]",
      "text/plain": [
       "<Figure size 360x360 with 1 Axes>"
      ]
     },
     "metadata": {
      "needs_background": "light"
     },
     "output_type": "display_data"
    }
   ],
   "source": [
    "sns.lmplot(x='Id', y='Salary', data=df_emp)"
   ]
  },
  {
   "cell_type": "code",
   "execution_count": null,
   "metadata": {},
   "outputs": [],
   "source": []
  },
  {
   "cell_type": "code",
   "execution_count": null,
   "metadata": {},
   "outputs": [],
   "source": []
  },
  {
   "cell_type": "code",
   "execution_count": null,
   "metadata": {},
   "outputs": [],
   "source": []
  }
 ],
 "metadata": {
  "kernelspec": {
   "display_name": "Python 3",
   "language": "python",
   "name": "python3"
  },
  "language_info": {
   "codemirror_mode": {
    "name": "ipython",
    "version": 3
   },
   "file_extension": ".py",
   "mimetype": "text/x-python",
   "name": "python",
   "nbconvert_exporter": "python",
   "pygments_lexer": "ipython3",
   "version": "3.7.6"
  }
 },
 "nbformat": 4,
 "nbformat_minor": 4
}
